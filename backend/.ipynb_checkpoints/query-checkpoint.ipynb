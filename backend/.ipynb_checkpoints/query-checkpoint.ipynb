{
 "cells": [
  {
   "cell_type": "code",
   "execution_count": 2,
   "id": "4eb580de",
   "metadata": {},
   "outputs": [
    {
     "ename": "ModuleNotFoundError",
     "evalue": "No module named 'opencc'",
     "output_type": "error",
     "traceback": [
      "\u001b[1;31m---------------------------------------------------------------------------\u001b[0m",
      "\u001b[1;31mModuleNotFoundError\u001b[0m                       Traceback (most recent call last)",
      "Cell \u001b[1;32mIn[2], line 5\u001b[0m\n\u001b[0;32m      3\u001b[0m \u001b[38;5;28;01mimport\u001b[39;00m \u001b[38;5;21;01mjson\u001b[39;00m\n\u001b[0;32m      4\u001b[0m \u001b[38;5;28;01mimport\u001b[39;00m \u001b[38;5;21;01mre\u001b[39;00m\n\u001b[1;32m----> 5\u001b[0m \u001b[38;5;28;01mfrom\u001b[39;00m \u001b[38;5;21;01mopencc\u001b[39;00m \u001b[38;5;28;01mimport\u001b[39;00m OpenCC\n\u001b[0;32m      6\u001b[0m \u001b[38;5;28;01mfrom\u001b[39;00m \u001b[38;5;21;01mckiptagger\u001b[39;00m \u001b[38;5;28;01mimport\u001b[39;00m WS, POS, NER, construct_dictionary\n\u001b[0;32m      7\u001b[0m \u001b[38;5;28;01mimport\u001b[39;00m \u001b[38;5;21;01mgensim\u001b[39;00m\n",
      "\u001b[1;31mModuleNotFoundError\u001b[0m: No module named 'opencc'"
     ]
    }
   ],
   "source": [
    "import pandas as pd\n",
    "import csv\n",
    "import json\n",
    "import re\n",
    "from ckiptagger import WS, POS, NER, construct_dictionary\n",
    "import gensim\n",
    "from gensim.models.word2vec import Word2Vec"
   ]
  },
  {
   "cell_type": "code",
   "execution_count": null,
   "id": "fab0e575",
   "metadata": {},
   "outputs": [],
   "source": [
    "review_tokenization_df = pd.read_csv('review_tokenization.csv')\n",
    "review_tokenization_df"
   ]
  },
  {
   "cell_type": "code",
   "execution_count": null,
   "id": "5463f5e9",
   "metadata": {},
   "outputs": [],
   "source": [
    "store_labels_df = pd.read_csv('store_labels.csv')\n",
    "store_labels_df"
   ]
  },
  {
   "cell_type": "code",
   "execution_count": null,
   "id": "e41c01f7",
   "metadata": {},
   "outputs": [],
   "source": [
    "labels_list = []\n",
    "labels_dict = {}\n",
    "with open(\"cafe_keyword_v2.csv\", 'r', encoding = 'utf-8-sig') as file:\n",
    "    csvreader = csv.reader(file)\n",
    "    headings = next(csvreader)\n",
    "    for row in csvreader:\n",
    "        row_filter = [t for t in row if t != '']\n",
    "        labels_list.append(row_filter)\n",
    "        for label in row_filter:\n",
    "            labels_dict[label] = 1\n",
    "print(labels_list)"
   ]
  },
  {
   "cell_type": "code",
   "execution_count": null,
   "id": "5c69eb27",
   "metadata": {},
   "outputs": [],
   "source": [
    "synonyms_list = []\n",
    "cc = OpenCC('s2tw')\n",
    "f = open(\"sim_words.txt\", \"r\")\n",
    "for x in f:\n",
    "    x_con = cc.convert(x)\n",
    "    synonyms_list.append(x_con.replace('\\n', '').split(' '))"
   ]
  },
  {
   "cell_type": "code",
   "execution_count": null,
   "id": "b1b7f5da",
   "metadata": {},
   "outputs": [],
   "source": [
    "ws = WS(r'data')\n",
    "ckip_dict = construct_dictionary(labels_dict)\n",
    "\n",
    "corpus = []\n",
    "ckip_results = review_tokenization_df['review_tokenization']\n",
    "for c in range(len(ckip_results)):\n",
    "    corpus.append(ckip_results[c][2:-2].replace(\"'\", \"\").split(\", \"))\n",
    "model = Word2Vec(corpus)"
   ]
  },
  {
   "cell_type": "code",
   "execution_count": null,
   "id": "61c936f2",
   "metadata": {},
   "outputs": [],
   "source": [
    "def query(q):\n",
    "    \n",
    "    reg = re.compile(\"[^\\u4e00-\\u9fa5^a-z^A-Z^0-9]\")\n",
    "    q_pre = reg.sub('', q)\n",
    "    queries = ws([q_pre], coerce_dictionary = ckip_dict)\n",
    "    \n",
    "    sims = {}\n",
    "    for labels in labels_list:\n",
    "        for qr in queries[0]:\n",
    "            if qr not in model.wv.index_to_key:\n",
    "                continue\n",
    "            for label in labels:\n",
    "                if label not in model.wv.index_to_key:\n",
    "                    continue\n",
    "                sim = model.wv.similarity(qr, label)\n",
    "                if sims.get(labels[0]) == None:\n",
    "                    sims[labels[0]] = sim\n",
    "                else:\n",
    "                    sims[labels[0]] += sim\n",
    "                break\n",
    "    if len(sims) == 0:\n",
    "        print('Your query is not in model!')\n",
    "    for k in sims:\n",
    "        sims[k] /= len(queries[0])\n",
    "    sims = {k: v for k, v in sorted(sims.items(), key = lambda item: item[1], reverse = True)}\n",
    "    top_labels = list(sims.keys())[0:3]\n",
    "    scores = {}\n",
    "    results_dict = {\"query_label\": top_labels, \"stores\": []}\n",
    "    \n",
    "    for i in range(len(store_labels_df)):\n",
    "        rating = store_labels_df.iloc[i]['star']\n",
    "        scores[i] = rating / 5 * 0.2\n",
    "        for l in range(len(top_labels)):\n",
    "            store_labels = store_labels_df.iloc[i]['labels'].replace(\"'\", '\"')\n",
    "            store_labels = json.loads(store_labels)\n",
    "            if top_labels[l] in store_labels.keys():\n",
    "                score = store_labels[top_labels[l]]\n",
    "                if l == 0:\n",
    "                    scores[i] += score * 0.6\n",
    "                else:\n",
    "                    scores[i] += score * 0.1\n",
    "                    \n",
    "    scores = {k: v for k, v in sorted(scores.items(), key = lambda item: item[1], reverse = True)}\n",
    "    attr = list(store_labels_df.columns)\n",
    "    top_num = 0\n",
    "    for i in scores.keys():\n",
    "        \n",
    "        if top_num == 10:\n",
    "            break\n",
    "            \n",
    "        result = {}\n",
    "        result[\"link\"] = store_labels_df.iloc[i]['link']\n",
    "        result[\"id\"] = store_labels_df.iloc[i]['id']\n",
    "        result[\"name\"] = store_labels_df.iloc[i]['name']\n",
    "        result[\"time\"] = store_labels_df.iloc[i]['time']\n",
    "        result[\"address\"] = store_labels_df.iloc[i]['address']\n",
    "        result[\"phone\"] = store_labels_df.iloc[i]['phone']\n",
    "        result[\"img\"] = store_labels_df.iloc[i]['img']\n",
    "        result[\"website\"] = store_labels_df.iloc[i]['website']\n",
    "        result[\"star\"] = store_labels_df.iloc[i]['star']\n",
    "        result[\"review_num\"] = store_labels_df.iloc[i]['review_num']\n",
    "        \n",
    "        top_labels_i = store_labels_df.iloc[i]['labels'].replace(\"'\", '\"')\n",
    "        top_labels_i = json.loads(top_labels_i)\n",
    "        top_labels_i = {k: v for k, v in sorted(top_labels_i.items(), key = lambda item: item[1], reverse = True)}\n",
    "        top_labels_i = list(top_labels_i.keys())[0:3]\n",
    "        result['labels'] = top_labels_i\n",
    "        \n",
    "        top_num += 1\n",
    "        results_dict[\"stores\"].append(result)\n",
    "        \n",
    "    return results_dict"
   ]
  },
  {
   "cell_type": "code",
   "execution_count": null,
   "id": "4f93a25b",
   "metadata": {},
   "outputs": [],
   "source": [
    "query('貓咪')"
   ]
  },
  {
   "cell_type": "code",
   "execution_count": null,
   "id": "ffb57bfa",
   "metadata": {},
   "outputs": [],
   "source": []
  }
 ],
 "metadata": {
  "kernelspec": {
   "display_name": "Python 3 (ipykernel)",
   "language": "python",
   "name": "python3"
  },
  "language_info": {
   "codemirror_mode": {
    "name": "ipython",
    "version": 3
   },
   "file_extension": ".py",
   "mimetype": "text/x-python",
   "name": "python",
   "nbconvert_exporter": "python",
   "pygments_lexer": "ipython3",
   "version": "3.11.3"
  }
 },
 "nbformat": 4,
 "nbformat_minor": 5
}
